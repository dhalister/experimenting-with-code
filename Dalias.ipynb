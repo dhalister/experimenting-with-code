{
 "cells": [
  {
   "cell_type": "code",
   "execution_count": 191,
   "id": "a327371b-eebd-45b5-bdcd-5dea06f9b0b8",
   "metadata": {},
   "outputs": [],
   "source": [
    "paintings = [\"The Two Fridas\", \"My Dress Hangs Here\", \"Tree of Hope\", \"Self Portrait With Monkeys\"]"
   ]
  },
  {
   "cell_type": "code",
   "execution_count": 192,
   "id": "b090965c-5837-404e-ac39-7e29e98bbb2f",
   "metadata": {},
   "outputs": [],
   "source": [
    "dates =[1939, 1933, 1946, 1940]"
   ]
  },
  {
   "cell_type": "code",
   "execution_count": 193,
   "id": "72e8bb8e-e5b2-4192-a7a5-7cd285cf4abc",
   "metadata": {},
   "outputs": [],
   "source": [
    "paintings_and_dates = zip (paintings, dates)"
   ]
  },
  {
   "cell_type": "code",
   "execution_count": 194,
   "id": "10fcea9c-2609-4af3-8ff5-5d3a33fdfc71",
   "metadata": {},
   "outputs": [],
   "source": [
    "converted_list = list (paintings_and_dates)"
   ]
  },
  {
   "cell_type": "code",
   "execution_count": 195,
   "id": "881d67e4-dc32-43ef-adc8-7e49c58532a5",
   "metadata": {},
   "outputs": [
    {
     "name": "stdout",
     "output_type": "stream",
     "text": [
      "[('The Two Fridas', 1939), ('My Dress Hangs Here', 1933), ('Tree of Hope', 1946), ('Self Portrait With Monkeys', 1940)]\n"
     ]
    }
   ],
   "source": [
    "print (converted_list)"
   ]
  },
  {
   "cell_type": "code",
   "execution_count": 196,
   "id": "9d53fc0a-2d18-4a14-afdc-abc6d6ebf9fd",
   "metadata": {},
   "outputs": [],
   "source": [
    "paintings = converted_list"
   ]
  },
  {
   "cell_type": "code",
   "execution_count": 197,
   "id": "f8509d8e-a121-4fff-923c-05763c34694d",
   "metadata": {},
   "outputs": [
    {
     "name": "stdout",
     "output_type": "stream",
     "text": [
      "[('The Two Fridas', 1939), ('My Dress Hangs Here', 1933), ('Tree of Hope', 1946), ('Self Portrait With Monkeys', 1940)]\n"
     ]
    }
   ],
   "source": [
    "print (paintings)"
   ]
  },
  {
   "cell_type": "code",
   "execution_count": 198,
   "id": "26b45463-d3b2-4dfc-8a97-dea8dbf55d11",
   "metadata": {},
   "outputs": [],
   "source": [
    "paintings.append ((\"The Broken Column\", 1944))"
   ]
  },
  {
   "cell_type": "code",
   "execution_count": 199,
   "id": "dc4b5d7a-ab46-45cd-bfdc-6ef4e72136c2",
   "metadata": {},
   "outputs": [
    {
     "name": "stdout",
     "output_type": "stream",
     "text": [
      "[('The Two Fridas', 1939), ('My Dress Hangs Here', 1933), ('Tree of Hope', 1946), ('Self Portrait With Monkeys', 1940), ('The Broken Column', 1944)]\n"
     ]
    }
   ],
   "source": [
    "print (paintings)"
   ]
  },
  {
   "cell_type": "code",
   "execution_count": 200,
   "id": "dc65854f-8066-4a2d-8082-83b229dcaa77",
   "metadata": {},
   "outputs": [],
   "source": [
    "paintings.append ((\"The Wounded Deear\", 1946))"
   ]
  },
  {
   "cell_type": "code",
   "execution_count": 201,
   "id": "e1b9955b-2ebc-42de-97dd-b4e98c989074",
   "metadata": {},
   "outputs": [
    {
     "name": "stdout",
     "output_type": "stream",
     "text": [
      "[('The Two Fridas', 1939), ('My Dress Hangs Here', 1933), ('Tree of Hope', 1946), ('Self Portrait With Monkeys', 1940), ('The Broken Column', 1944), ('The Wounded Deear', 1946)]\n"
     ]
    }
   ],
   "source": [
    "print (paintings)"
   ]
  },
  {
   "cell_type": "code",
   "execution_count": 202,
   "id": "dd5c7d89-90de-4364-8548-5595d815abaa",
   "metadata": {},
   "outputs": [],
   "source": [
    "paintings.append ((\"Me and My Doll\", 1937))"
   ]
  },
  {
   "cell_type": "code",
   "execution_count": 203,
   "id": "178bb4f8-59f9-457c-8133-5f6a2ba54180",
   "metadata": {},
   "outputs": [
    {
     "name": "stdout",
     "output_type": "stream",
     "text": [
      "[('The Two Fridas', 1939), ('My Dress Hangs Here', 1933), ('Tree of Hope', 1946), ('Self Portrait With Monkeys', 1940), ('The Broken Column', 1944), ('The Wounded Deear', 1946), ('Me and My Doll', 1937)]\n"
     ]
    }
   ],
   "source": [
    "print (paintings)"
   ]
  },
  {
   "cell_type": "code",
   "execution_count": 204,
   "id": "26dbebef-4ca2-4379-be66-07b9470c9e70",
   "metadata": {},
   "outputs": [
    {
     "data": {
      "text/plain": [
       "7"
      ]
     },
     "execution_count": 204,
     "metadata": {},
     "output_type": "execute_result"
    }
   ],
   "source": [
    "len (paintings)"
   ]
  },
  {
   "cell_type": "code",
   "execution_count": 209,
   "id": "6a39caa7-ac18-4c37-ba5d-9a190e9b2b0b",
   "metadata": {},
   "outputs": [],
   "source": [
    "audio_tour_number = range (1,(len (paintings)+1))"
   ]
  },
  {
   "cell_type": "code",
   "execution_count": 210,
   "id": "4524c9ad-98ae-4d51-b923-677e0c06f57a",
   "metadata": {},
   "outputs": [],
   "source": [
    "audio_tour_number_and_paintings= zip (audio_tour_number, paintings)"
   ]
  },
  {
   "cell_type": "code",
   "execution_count": 211,
   "id": "0918d2c6-1e62-469d-9576-8c062e9a6b1b",
   "metadata": {},
   "outputs": [],
   "source": [
    "updated_paintings = list (audio_tour_number_and_paintings)"
   ]
  },
  {
   "cell_type": "code",
   "execution_count": 212,
   "id": "ae57819f-6d4e-4d43-91a0-e0411ee45d59",
   "metadata": {},
   "outputs": [
    {
     "name": "stdout",
     "output_type": "stream",
     "text": [
      "[(1, ('The Two Fridas', 1939)), (2, ('My Dress Hangs Here', 1933)), (3, ('Tree of Hope', 1946)), (4, ('Self Portrait With Monkeys', 1940)), (5, ('The Broken Column', 1944)), (6, ('The Wounded Deear', 1946)), (7, ('Me and My Doll', 1937))]\n"
     ]
    }
   ],
   "source": [
    "print (updated_paintings)"
   ]
  },
  {
   "cell_type": "code",
   "execution_count": 213,
   "id": "caea1702-1045-490f-b044-57561bb44837",
   "metadata": {},
   "outputs": [],
   "source": [
    "master_list = updated_paintings"
   ]
  },
  {
   "cell_type": "code",
   "execution_count": 214,
   "id": "a9d13798-f9d1-4885-86c5-365cdaab0175",
   "metadata": {},
   "outputs": [
    {
     "name": "stdout",
     "output_type": "stream",
     "text": [
      "[(1, ('The Two Fridas', 1939)), (2, ('My Dress Hangs Here', 1933)), (3, ('Tree of Hope', 1946)), (4, ('Self Portrait With Monkeys', 1940)), (5, ('The Broken Column', 1944)), (6, ('The Wounded Deear', 1946)), (7, ('Me and My Doll', 1937))]\n"
     ]
    }
   ],
   "source": [
    "print (master_list)"
   ]
  },
  {
   "cell_type": "code",
   "execution_count": null,
   "id": "9509f348-5f85-49b4-a92d-2ecda64427e5",
   "metadata": {},
   "outputs": [],
   "source": []
  }
 ],
 "metadata": {
  "kernelspec": {
   "display_name": "Python 3 (ipykernel)",
   "language": "python",
   "name": "python3"
  },
  "language_info": {
   "codemirror_mode": {
    "name": "ipython",
    "version": 3
   },
   "file_extension": ".py",
   "mimetype": "text/x-python",
   "name": "python",
   "nbconvert_exporter": "python",
   "pygments_lexer": "ipython3",
   "version": "3.11.5"
  }
 },
 "nbformat": 4,
 "nbformat_minor": 5
}
